{
  "nbformat": 4,
  "nbformat_minor": 0,
  "metadata": {
    "colab": {
      "provenance": [],
      "authorship_tag": "ABX9TyN6D7hNRlVfvlUFDDfsl9Qg",
      "include_colab_link": true
    },
    "kernelspec": {
      "name": "python3",
      "display_name": "Python 3"
    },
    "language_info": {
      "name": "python"
    }
  },
  "cells": [
    {
      "cell_type": "markdown",
      "metadata": {
        "id": "view-in-github",
        "colab_type": "text"
      },
      "source": [
        "<a href=\"https://colab.research.google.com/github/princythomasss/Assignment_Entri/blob/main/Oops_Task6.ipynb\" target=\"_parent\"><img src=\"https://colab.research.google.com/assets/colab-badge.svg\" alt=\"Open In Colab\"/></a>"
      ]
    },
    {
      "cell_type": "markdown",
      "source": [
        "Write a Python program to create a class representing a Circle. Include methods to calculate its area and perimeter."
      ],
      "metadata": {
        "id": "Hk5zDelpFVqW"
      }
    },
    {
      "cell_type": "code",
      "execution_count": 3,
      "metadata": {
        "colab": {
          "base_uri": "https://localhost:8080/"
        },
        "id": "fEcY6jy8pXhC",
        "outputId": "d708c332-e7c6-4511-fe43-0afc2b2df722"
      },
      "outputs": [
        {
          "output_type": "stream",
          "name": "stdout",
          "text": [
            "Area of circle is 113.09733552923255\n",
            "Perimeter of circle is 37.69911184307752\n"
          ]
        }
      ],
      "source": [
        "import math\n",
        "\n",
        "class Circle:\n",
        "  def Area(self,r):\n",
        "    area=math.pi*(r**2)\n",
        "    print(f'Area of circle is {area}')\n",
        "\n",
        "  def Perimeter(self,r):\n",
        "    perimeter=2*math.pi*r\n",
        "    print(f'Perimeter of circle is {perimeter}')\n",
        "\n",
        "C1=Circle()\n",
        "C1.Area(6)\n",
        "C1.Perimeter(6)\n",
        ""
      ]
    },
    {
      "cell_type": "markdown",
      "source": [
        "Write a Python program to create a calculator class. Include methods for basic arithmetic operations."
      ],
      "metadata": {
        "id": "SR1CB2itINsw"
      }
    },
    {
      "cell_type": "code",
      "source": [
        "class calculator:\n",
        "  def __init__(self,a,b):\n",
        "    self.a=a\n",
        "    self.b=b\n",
        "\n",
        "  def addition(self):\n",
        "    print(f'addition of 2 numbers is {self.a+self.b}')\n",
        "\n",
        "  def sub(self):\n",
        "    print(f'substraction of 2 numbers is {self.a-self.b}')\n",
        "\n",
        "  def multiplication(self):\n",
        "    print(f'addition of 2 numbers is {self.a*self.b}')\n",
        "\n",
        "  def division(self):\n",
        "    print(f'addition of 2 numbers is {self.a/self.b}')\n",
        "\n",
        "\n",
        "c1=calculator(8,4)\n",
        "c1.addition()\n",
        "c1.sub()\n",
        "c1.multiplication()\n",
        "c1.division()"
      ],
      "metadata": {
        "colab": {
          "base_uri": "https://localhost:8080/"
        },
        "id": "CX-uEvvyIPAc",
        "outputId": "8bf805d6-a304-44ea-f95b-3772cc621b37"
      },
      "execution_count": 11,
      "outputs": [
        {
          "output_type": "stream",
          "name": "stdout",
          "text": [
            "addition of 2 numbers is 12\n",
            "substraction of 2 numbers is 4\n",
            "addition of 2 numbers is 32\n",
            "addition of 2 numbers is 2.0\n"
          ]
        }
      ]
    },
    {
      "cell_type": "markdown",
      "source": [
        "Write a Python program to create a class that represents a shape. Include methods to calculate its area and perimeter. Implement subclasses for different shapes like circle, triangle, and square."
      ],
      "metadata": {
        "id": "VufQP94vKlEp"
      }
    },
    {
      "cell_type": "code",
      "source": [
        "import math\n",
        "\n",
        "class Circle:\n",
        "    def __init__(self, r):\n",
        "        self.r = r\n",
        "\n",
        "    def area(self):\n",
        "        print(f'{math.pi * self.r ** 2} is area of circle')\n",
        "\n",
        "    def perimeter(self):\n",
        "        print(f'{2 * math.pi * self.r}is perimeter of circle')\n",
        "\n",
        "class Triangle:\n",
        "    def __init__(self, side1, side2, side3):\n",
        "        self.side1 = side1\n",
        "        self.side2 = side2\n",
        "        self.side3 = side3\n",
        "\n",
        "    def perimeter(self):\n",
        "        print(f'{self.side1 + self.side2 + self.side3} is perimeter of Triangle')\n",
        "\n",
        "    def area(self):\n",
        "        s = (self.side1 + self.side2 + self.side3) / 2\n",
        "        print(f'{math.sqrt(s * (s - self.side1) * (s - self.side2) * (s - self.side3))} is area of Triangle')\n",
        "\n",
        "class Square:\n",
        "    def __init__(self, side):\n",
        "        self.side = side\n",
        "\n",
        "    def area(self):\n",
        "        print(f'{self.side ** 2} area of square')\n",
        "\n",
        "    def perimeter(self):\n",
        "        print(f'{4 * self.side} perimeter of square')\n",
        "\n",
        "circle = Circle(5)\n",
        "circle.area()\n",
        "circle.perimeter()\n",
        "triangle = Triangle(3, 4, 5)\n",
        "triangle.area()\n",
        "triangle.perimeter()\n",
        "square = Square(2)\n",
        "square.area()\n",
        "square.perimeter()\n"
      ],
      "metadata": {
        "colab": {
          "base_uri": "https://localhost:8080/"
        },
        "id": "6dSb0ii2KmQk",
        "outputId": "d4155dd1-ec2e-4166-db0d-d273b35f13e2"
      },
      "execution_count": 19,
      "outputs": [
        {
          "output_type": "stream",
          "name": "stdout",
          "text": [
            "78.53981633974483 is area of circle\n",
            "31.41592653589793is perimeter of circle\n",
            "6.0 is area of Triangle\n",
            "12 is perimeter of Triangle\n",
            "4 area of square\n",
            "8 perimeter of square\n"
          ]
        }
      ]
    },
    {
      "cell_type": "code",
      "source": [],
      "metadata": {
        "id": "yqir5CN8PCGP"
      },
      "execution_count": null,
      "outputs": []
    }
  ]
}