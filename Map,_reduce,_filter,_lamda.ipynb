{
  "nbformat": 4,
  "nbformat_minor": 0,
  "metadata": {
    "colab": {
      "provenance": [],
      "authorship_tag": "ABX9TyMWdGsPJv4ksV6TqqqqxHYb",
      "include_colab_link": true
    },
    "kernelspec": {
      "name": "python3",
      "display_name": "Python 3"
    },
    "language_info": {
      "name": "python"
    }
  },
  "cells": [
    {
      "cell_type": "markdown",
      "metadata": {
        "id": "view-in-github",
        "colab_type": "text"
      },
      "source": [
        "<a href=\"https://colab.research.google.com/github/princythomasss/Assignment_Entri/blob/main/Map%2C_reduce%2C_filter%2C_lamda.ipynb\" target=\"_parent\"><img src=\"https://colab.research.google.com/assets/colab-badge.svg\" alt=\"Open In Colab\"/></a>"
      ]
    },
    {
      "cell_type": "markdown",
      "source": [
        "Exercise 1:\n",
        "\n",
        "Create a function with a default argument\n",
        "Write a program to create a function show_employee() using the following conditions.\n",
        "\n",
        "\n",
        "It should accept the employee’s name and salary and display both.\n",
        "If the salary is missing in the function call then assign default value 9000 to salary\n",
        "\n",
        "\n",
        "Given:\n",
        "\n",
        "showEmployee(\"Ben\", 12000)\n",
        "\n",
        "showEmployee(\"Jessa\")\n",
        "\n",
        "Expected output:\n",
        "\n",
        "Name: Ben salary: 12000\n",
        "\n",
        "Name: Jessa salary: 9000\n"
      ],
      "metadata": {
        "id": "rWNTV12VHLHa"
      }
    },
    {
      "cell_type": "code",
      "execution_count": null,
      "metadata": {
        "colab": {
          "base_uri": "https://localhost:8080/"
        },
        "id": "H4ilnNLKHBza",
        "outputId": "c18a84e4-546e-4c00-d79e-129c1e250196"
      },
      "outputs": [
        {
          "output_type": "stream",
          "name": "stdout",
          "text": [
            "Name: Ben Salary: 12000\n",
            "Name: Jessa Salary: 9000\n"
          ]
        }
      ],
      "source": [
        "def showEmployee(Name,Salary=9000):\n",
        "    print(\"Name:\",Name,\"Salary:\",Salary)\n",
        "showEmployee(\"Ben\", 12000)\n",
        "showEmployee(\"Jessa\")"
      ]
    },
    {
      "cell_type": "markdown",
      "source": [
        "Exercise 2:\n",
        "\n",
        "Create an inner function to calculate the addition in the following way\n",
        "\n",
        "Create an outer function that will accept two parameters, a and b\n",
        "\n",
        "Create an inner function inside an outer function that will calculate the addition of a and b\n",
        "\n",
        "At last, an outer function will add 5 into addition and return it\n"
      ],
      "metadata": {
        "id": "Vdq_D3zvJAMX"
      }
    },
    {
      "cell_type": "code",
      "source": [
        "def add1(x,y):\n",
        "    def add2(a,b):\n",
        "        return a+b\n",
        "    return add2(x,y)+5\n",
        "\n",
        "c=add1(2,3)\n",
        "print(c)"
      ],
      "metadata": {
        "colab": {
          "base_uri": "https://localhost:8080/"
        },
        "id": "raiP6zreI_q1",
        "outputId": "fb2a5fd3-3f37-4bd5-e3a9-d78d7a03a79b"
      },
      "execution_count": null,
      "outputs": [
        {
          "output_type": "stream",
          "name": "stdout",
          "text": [
            "10\n"
          ]
        }
      ]
    },
    {
      "cell_type": "markdown",
      "source": [
        "Exercise 3:\n",
        "\n",
        "Generate a Python list of all the even numbers between 4 to 30"
      ],
      "metadata": {
        "id": "GGBuE_KJM_dG"
      }
    },
    {
      "cell_type": "code",
      "source": [
        "even_num=[i for i in range(4,30) if i%2==0]\n",
        "print(even_num)\n"
      ],
      "metadata": {
        "colab": {
          "base_uri": "https://localhost:8080/"
        },
        "id": "ZbupSceWNCuz",
        "outputId": "bbd3c112-d382-451c-a672-da87ae800adf"
      },
      "execution_count": null,
      "outputs": [
        {
          "output_type": "stream",
          "name": "stdout",
          "text": [
            "[4, 6, 8, 10, 12, 14, 16, 18, 20, 22, 24, 26, 28]\n"
          ]
        }
      ]
    },
    {
      "cell_type": "markdown",
      "source": [
        "Exercise 4:\n",
        "\n",
        "Lambda Function to Check if value is in a List\n",
        "\n",
        "Given a list, the task is to write a Python program to check if the value exists in the list or not using the lambda function.\n",
        "\n",
        "\n",
        "Input  : L = [1, 2, 3, 4, 5]\n",
        "\n",
        "          element = 4\n",
        "Output :  Element is Present in the list\n",
        "\n",
        "Input :  L = [1, 2, 3, 4, 5]\n",
        "\n",
        "          element = 8\n",
        "Output :  Element is NOT Present in the list\n"
      ],
      "metadata": {
        "id": "4Htec7OgNviV"
      }
    },
    {
      "cell_type": "code",
      "source": [
        "\n",
        "def find(list_find,y):\n",
        "    result=list(filter(lambda x:x==y,list_find))\n",
        "    if result:\n",
        "        print(\"Element is present in the given list\")\n",
        "    else:\n",
        "        print(\"Element is  not present in the given list\")\n",
        "\n",
        "L = [1, 2, 3, 4, 5]\n",
        "find(L,2)\n",
        "find(L,9)"
      ],
      "metadata": {
        "colab": {
          "base_uri": "https://localhost:8080/"
        },
        "id": "HA2zErfrOIAb",
        "outputId": "98257ff9-389e-47e4-b2fa-41f045dc84bf"
      },
      "execution_count": null,
      "outputs": [
        {
          "output_type": "stream",
          "name": "stdout",
          "text": [
            "Element is present in the given list\n",
            "Element is  not present in the given list\n"
          ]
        }
      ]
    },
    {
      "cell_type": "markdown",
      "source": [
        "Exercise 5:\n",
        "\n",
        "Sort list of tuples with their sum\n",
        "\n",
        "Sort the points based on their sum of elements in the tuples\n",
        "\n",
        "points = [(1, 2), (5, 3), (0, 7), (3, 1)]\n"
      ],
      "metadata": {
        "id": "dRKZWyDLQ_yN"
      }
    },
    {
      "cell_type": "code",
      "source": [
        "points=[(1, 2), (5, 3), (0, 7), (3, 1)]\n",
        "points.sort(key=lambda x:x[0]+x[1])\n",
        "print(points)\n"
      ],
      "metadata": {
        "colab": {
          "base_uri": "https://localhost:8080/"
        },
        "id": "UYu12n3-Ps9b",
        "outputId": "d04edcf3-8e4e-4581-efbf-d2d828fb0f5f"
      },
      "execution_count": null,
      "outputs": [
        {
          "output_type": "stream",
          "name": "stdout",
          "text": [
            "[(1, 2), (3, 1), (0, 7), (5, 3)]\n"
          ]
        }
      ]
    },
    {
      "cell_type": "markdown",
      "source": [
        "Exercise 6 :\n",
        "\n",
        "Write a python function, which will find all such numbers between 1000 and 3000 (both included) such that each digit of the number is an even number. Return the results as a list\n"
      ],
      "metadata": {
        "id": "KCUfOqqrUdZr"
      }
    },
    {
      "cell_type": "code",
      "source": [
        "def even(number):\n",
        "  number = str(number)\n",
        "  return all(int(digit) % 2 == 0 for digit in number)\n",
        "\n",
        "even_num = list(filter(lambda x:even(x),range(1000,3001)))\n",
        "print(even_num)"
      ],
      "metadata": {
        "colab": {
          "base_uri": "https://localhost:8080/"
        },
        "id": "eV2qEIVrUu1N",
        "outputId": "5da72aad-144d-4cdc-ce4f-25282c9ba47e"
      },
      "execution_count": null,
      "outputs": [
        {
          "output_type": "stream",
          "name": "stdout",
          "text": [
            "[2000, 2002, 2004, 2006, 2008, 2020, 2022, 2024, 2026, 2028, 2040, 2042, 2044, 2046, 2048, 2060, 2062, 2064, 2066, 2068, 2080, 2082, 2084, 2086, 2088, 2200, 2202, 2204, 2206, 2208, 2220, 2222, 2224, 2226, 2228, 2240, 2242, 2244, 2246, 2248, 2260, 2262, 2264, 2266, 2268, 2280, 2282, 2284, 2286, 2288, 2400, 2402, 2404, 2406, 2408, 2420, 2422, 2424, 2426, 2428, 2440, 2442, 2444, 2446, 2448, 2460, 2462, 2464, 2466, 2468, 2480, 2482, 2484, 2486, 2488, 2600, 2602, 2604, 2606, 2608, 2620, 2622, 2624, 2626, 2628, 2640, 2642, 2644, 2646, 2648, 2660, 2662, 2664, 2666, 2668, 2680, 2682, 2684, 2686, 2688, 2800, 2802, 2804, 2806, 2808, 2820, 2822, 2824, 2826, 2828, 2840, 2842, 2844, 2846, 2848, 2860, 2862, 2864, 2866, 2868, 2880, 2882, 2884, 2886, 2888]\n"
          ]
        }
      ]
    },
    {
      "cell_type": "markdown",
      "source": [
        "Exercise 7 :\n",
        "\n",
        "Write a python function that accepts a sentence and calculate and return the number of letters and digits.\n",
        "\n",
        "Suppose the following input is supplied to the program:\n",
        "\n",
        "hello world! 123\n",
        "\n",
        "Then, the output should be:\n",
        "\n",
        "LETTERS 10\n",
        "\n",
        "DIGITS 3\n"
      ],
      "metadata": {
        "id": "eSE1z3ftL9Tq"
      }
    },
    {
      "cell_type": "code",
      "source": [
        "def count(text):\n",
        "  digits = sum(map(lambda x:x.isdigit(),text))\n",
        "  letters = sum(map(lambda x:x.isalpha(),text))\n",
        "  return digits,letters\n",
        "\n",
        "text = \"hello world! 123\"\n",
        "digits,letters = count(text)\n",
        "print(\"LETTERS\", letters)\n",
        "print(\"DIGITS\", digits)"
      ],
      "metadata": {
        "colab": {
          "base_uri": "https://localhost:8080/"
        },
        "id": "7Fw-xprUMH1p",
        "outputId": "4e48c7d2-2163-4b78-fe4c-e07a7dc6fb67"
      },
      "execution_count": null,
      "outputs": [
        {
          "output_type": "stream",
          "name": "stdout",
          "text": [
            "LETTERS 10\n",
            "DIGITS 3\n"
          ]
        }
      ]
    },
    {
      "cell_type": "markdown",
      "source": [
        "Exercise 8  MAP:\n",
        "\n",
        "Write a Python program to convert all the characters into uppercase and lowercase and eliminate duplicate letters from a given sequence. Use the map() function\n"
      ],
      "metadata": {
        "id": "KYwPPlI8NCtp"
      }
    },
    {
      "cell_type": "code",
      "source": [
        "def remove_duplicates(result):\n",
        "  res=\"\"\n",
        "  for i in result:\n",
        "    if i not in res:\n",
        "      res += i\n",
        "  return res\n",
        "\n",
        "def uppercase(x):\n",
        "  upper_case =''.join(map(lambda x: x.upper(), x))\n",
        "  res=remove_duplicates(upper_case)\n",
        "  return res\n",
        "\n",
        "def lowercase(x):\n",
        "  lower_case =''.join(map(lambda x: x.lower(), x))\n",
        "  res=remove_duplicates(lower_case)\n",
        "  return res\n",
        "\n",
        "x = \"helloWorld\"\n",
        "res = uppercase(x)\n",
        "print(f\"Sequence in uppercase {res}\")\n",
        "res = lowercase(x)\n",
        "print(f\"Sequence in lowercase {res}\")"
      ],
      "metadata": {
        "colab": {
          "base_uri": "https://localhost:8080/"
        },
        "id": "_9WhSOmhNOip",
        "outputId": "a1cb6e75-cb55-4bc9-8a52-638b692d0cc7"
      },
      "execution_count": null,
      "outputs": [
        {
          "output_type": "stream",
          "name": "stdout",
          "text": [
            "Sequence in uppercase HELOWRD\n",
            "Sequence in lowercase helowrd\n"
          ]
        }
      ]
    },
    {
      "cell_type": "markdown",
      "source": [
        "Exercise 9 MAP:\n",
        "\n",
        " Write a Python program to element wise add two given lists and find the difference between them. Use the map() function\n"
      ],
      "metadata": {
        "id": "iMRBIEHdXTM6"
      }
    },
    {
      "cell_type": "code",
      "source": [
        "list1 = [1,2,3,4]\n",
        "list2 = [5,6,7,8]\n",
        "\n",
        "res = map(lambda x, y: x + y, list1, list2)\n",
        "print(f\"Final list after adding two given lists is\",list(res))"
      ],
      "metadata": {
        "colab": {
          "base_uri": "https://localhost:8080/"
        },
        "id": "aq3t9NFcXlKU",
        "outputId": "8562b02b-b21c-499c-c249-8dea6a4f9afa"
      },
      "execution_count": null,
      "outputs": [
        {
          "output_type": "stream",
          "name": "stdout",
          "text": [
            "Final list after adding two given lists is [6, 8, 10, 12]\n"
          ]
        }
      ]
    },
    {
      "cell_type": "markdown",
      "source": [
        "Exercise 10 Filter:\n",
        "\n",
        "Write a Python program to filter the height and weight of students, which are stored in a dictionary using lambda.\n",
        "\n",
        "Original Dictionary:\n",
        "\n",
        "{'Cierra Vega': (6.2, 71), 'Alden Cantrell': (5.9, 65), 'Kierra Gentry': (6.0, 68), 'Pierre Cox': (5.8, 66)}\n",
        "\n",
        "Height> 6ft and Weight> 70kg:\n",
        "{'Cierra Vega': (6.2, 71)}\n"
      ],
      "metadata": {
        "id": "crUY-l4SY5b-"
      }
    },
    {
      "cell_type": "code",
      "source": [
        "def filter_data(students):\n",
        "    result = dict(filter(lambda x: (x[1][0], x[1][1]) > (6.0, 70), students.items()))\n",
        "    return result\n",
        "\n",
        "students = {'Cierra Vega': (6.2, 70),'Alden Cantrell': (5.9, 65),'Kierra Gentry': (6.0, 68),'Pierre Cox': (5.8, 66)}\n",
        "\n",
        "print(f\"Student with Height > 6ft and Weight > 70kg:\",filter_data(students))"
      ],
      "metadata": {
        "colab": {
          "base_uri": "https://localhost:8080/"
        },
        "id": "TpxcOFP5Zb0-",
        "outputId": "4ef1ce55-a7d2-4cc0-be9c-f7cc044843cb"
      },
      "execution_count": null,
      "outputs": [
        {
          "output_type": "stream",
          "name": "stdout",
          "text": [
            "Student with Height > 6ft and Weight > 70kg: {'Cierra Vega': (6.2, 70)}\n"
          ]
        }
      ]
    },
    {
      "cell_type": "markdown",
      "source": [
        "Exercise 11 Filter:\n",
        "\n",
        "Write a Python program to remove all elements from a given list present in another list using lambda.\n",
        "\n",
        "Original lists:\n",
        "\n",
        "list1: [1, 2, 3, 4, 5, 6, 7, 8, 9, 10]\n",
        "\n",
        "list2: [2, 4, 6, 8]\n",
        "\n",
        "Remove all elements from 'list1' present in 'list2:\n",
        "\n",
        "[1, 3, 5, 7, 9, 10]\n"
      ],
      "metadata": {
        "id": "yHWGF_B4cXTE"
      }
    },
    {
      "cell_type": "code",
      "source": [
        "list1 = [1, 2, 3, 4, 5, 6, 7, 8, 9, 10]\n",
        "list2 = [2, 4, 6, 8]\n",
        "\n",
        "list1 = list(filter(lambda x: x not in list2, list1))\n",
        "print(list1)\n"
      ],
      "metadata": {
        "id": "CRXWs0FVctFA",
        "colab": {
          "base_uri": "https://localhost:8080/"
        },
        "outputId": "a0c1408e-38ce-42ad-be17-da27a07e954b"
      },
      "execution_count": null,
      "outputs": [
        {
          "output_type": "stream",
          "name": "stdout",
          "text": [
            "[1, 3, 5, 7, 9, 10]\n"
          ]
        }
      ]
    },
    {
      "cell_type": "markdown",
      "source": [
        "Exercise 12 Reduce: Write a Python program to calculate the product of a given list of numbers using lambda.\n",
        "\n",
        "list1: [1, 2, 3, 4, 5, 6, 7, 8, 9, 10]\n",
        "\n",
        "Product of the said list numbers:\n",
        "\n",
        "3628800"
      ],
      "metadata": {
        "id": "0C0qHvBlFRSj"
      }
    },
    {
      "cell_type": "code",
      "source": [
        "from functools import reduce\n",
        "list1 = [1, 2, 3, 4, 5, 6, 7, 8, 9, 10]\n",
        "product = reduce(lambda x,y : x*y,list1)\n",
        "print(product)"
      ],
      "metadata": {
        "colab": {
          "base_uri": "https://localhost:8080/"
        },
        "id": "yfKQUuHbFaVw",
        "outputId": "d3e92b12-e51e-4db0-d92b-beb1e6244771"
      },
      "execution_count": null,
      "outputs": [
        {
          "output_type": "stream",
          "name": "stdout",
          "text": [
            "3628800\n"
          ]
        }
      ]
    },
    {
      "cell_type": "markdown",
      "source": [
        "Exercise 13 Reduce: Write a Python program to multiply all the numbers in a given list using lambda.\n",
        "\n",
        "Original list:\n",
        "\n",
        "[4, 3, 2, 2, -1, 18]\n",
        "\n",
        "Mmultiply all the numbers of the said list: -864"
      ],
      "metadata": {
        "id": "wtw5MP8fFxNK"
      }
    },
    {
      "cell_type": "code",
      "source": [
        "from functools import reduce\n",
        "list1 = [4, 3, 2, 2, -1, 18]\n",
        "result = reduce(lambda x,y : x*y , list1)\n",
        "print(result)\n"
      ],
      "metadata": {
        "colab": {
          "base_uri": "https://localhost:8080/"
        },
        "id": "bM8texrLFrEw",
        "outputId": "60f0ec30-09b2-4d57-bc64-66d673e33987"
      },
      "execution_count": null,
      "outputs": [
        {
          "output_type": "stream",
          "name": "stdout",
          "text": [
            "-864\n"
          ]
        }
      ]
    },
    {
      "cell_type": "markdown",
      "source": [
        "Exercise 14 Reduce: Write a Python program to calculate the average value of the numbers in a given tuple of tuples using lambda.\n",
        "\n",
        "Original Tuple:\n",
        "\n",
        "((10, 10, 10), (30, 45, 56), (81, 80, 39), (1, 2, 3))\n",
        "\n",
        "Average value of the numbers of the said tuple of tuples:\n",
        "\n",
        "(30.5, 34.25, 27.0)"
      ],
      "metadata": {
        "id": "JMM_FnA8GKNI"
      }
    },
    {
      "cell_type": "code",
      "source": [
        "from functools import reduce\n",
        "\n",
        "tuple1 = ((10, 10, 10), (30, 45, 56), (81, 80, 39), (1, 2, 3))\n",
        "\n",
        "tuple_length = len(tuple1)\n",
        "\n",
        "sum = reduce(lambda x, y: tuple(map(lambda i, j: i + j, x, y)), tuple1)\n",
        "\n",
        "result = tuple(map(lambda x: x / tuple_length, sums))\n",
        "\n",
        "print(\"Average of the given tple :\")\n",
        "print(result)"
      ],
      "metadata": {
        "colab": {
          "base_uri": "https://localhost:8080/"
        },
        "id": "wx6Y0pM-GOCv",
        "outputId": "13b5797f-a1af-43b4-dcdf-e1932f36a878"
      },
      "execution_count": null,
      "outputs": [
        {
          "output_type": "stream",
          "name": "stdout",
          "text": [
            "Average of the given tple :\n",
            "(30.5, 34.25, 27.0)\n"
          ]
        }
      ]
    },
    {
      "cell_type": "markdown",
      "source": [
        "Exercise 15: Write a Python program to sort a given mixed list of integers and strings using lambda. Numbers must be sorted before strings.\n",
        "Original list:\n",
        "\n",
        "[19, 'red', 12, 'green', 'blue', 10, 'white', 'green', 1]\n",
        "\n",
        "Sort the said mixed list of integers and strings:\n",
        "\n",
        "[1, 10, 12, 19, 'blue', 'green', 'green', 'red', 'white']"
      ],
      "metadata": {
        "id": "gYjmY3Z7GsZS"
      }
    },
    {
      "cell_type": "code",
      "source": [
        "list1 = [19, 'red', 12, 'green', 'blue', 10, 'white', 'green', 1]\n",
        "\n",
        "sorted_list = sorted(list1, key=lambda x: (isinstance(x, str), x))\n",
        "\n",
        "print(sorted_list)"
      ],
      "metadata": {
        "colab": {
          "base_uri": "https://localhost:8080/"
        },
        "id": "_DJ9kXWsGuUv",
        "outputId": "a18ddacf-4276-464a-9aad-ea0d467f821a"
      },
      "execution_count": null,
      "outputs": [
        {
          "output_type": "stream",
          "name": "stdout",
          "text": [
            "[1, 10, 12, 19, 'blue', 'green', 'green', 'red', 'white']\n"
          ]
        }
      ]
    },
    {
      "cell_type": "markdown",
      "source": [
        "Exercise 16: Write a Python program to count the occurrences of items in a given list using lambda.\n",
        "Original list:\n",
        "\n",
        "[3, 4, 5, 8, 0, 3, 8, 5, 0, 3, 1, 5, 2, 3, 4, 2]\n",
        "\n",
        "Count the occurrences of the items in the said list:\n",
        "\n",
        "{3: 4, 4: 2, 5: 3, 8: 2, 0: 2, 1: 1, 2: 2}"
      ],
      "metadata": {
        "id": "p3dEiFElHFqm"
      }
    },
    {
      "cell_type": "code",
      "source": [
        "list1 = [3, 4, 5, 8, 0, 3, 8, 5, 0, 3, 1, 5, 2, 3, 4, 2]\n",
        "result = dict(map(lambda x:(x,list1.count(x)) , list1))\n",
        "print(result)"
      ],
      "metadata": {
        "colab": {
          "base_uri": "https://localhost:8080/"
        },
        "id": "ecFZO0jQHMbY",
        "outputId": "cb3c7607-c3ff-49e3-dc81-6799caa26939"
      },
      "execution_count": null,
      "outputs": [
        {
          "output_type": "stream",
          "name": "stdout",
          "text": [
            "{3: 4, 4: 2, 5: 3, 8: 2, 0: 2, 1: 1, 2: 2}\n"
          ]
        }
      ]
    },
    {
      "cell_type": "markdown",
      "source": [
        "Exercise 17: Write a Python program to remove None values from a given list using the lambda function.\n",
        "Original list:\n",
        "\n",
        "[12, 0, None, 23, None, -55, 234, 89, None, 0, 6, -12]\n",
        "\n",
        "Remove None value from the said list:\n",
        "\n",
        "[12, 0, 23, -55, 234, 89, 0, 6, -12]"
      ],
      "metadata": {
        "id": "y434lymoHajQ"
      }
    },
    {
      "cell_type": "code",
      "source": [
        "original_list = [12, 0, None, 23, None, -55, 234, 89, None, 0, 6, -12]\n",
        "\n",
        "filtered_list = list(filter(lambda x: x != None, original_list))\n",
        "print(filtered_list)"
      ],
      "metadata": {
        "id": "DJ7CF41qHgTi",
        "outputId": "33bf3bc5-838e-419a-cf65-09da89a5dafc",
        "colab": {
          "base_uri": "https://localhost:8080/"
        }
      },
      "execution_count": null,
      "outputs": [
        {
          "output_type": "stream",
          "name": "stdout",
          "text": [
            "Remove None value from the said list:\n",
            "[12, 0, 23, -55, 234, 89, 0, 6, -12]\n"
          ]
        }
      ]
    }
  ]
}