{
  "nbformat": 4,
  "nbformat_minor": 0,
  "metadata": {
    "colab": {
      "provenance": [],
      "authorship_tag": "ABX9TyPiHfYs+f35fVrleZX8fgnF",
      "include_colab_link": true
    },
    "kernelspec": {
      "name": "python3",
      "display_name": "Python 3"
    },
    "language_info": {
      "name": "python"
    }
  },
  "cells": [
    {
      "cell_type": "markdown",
      "metadata": {
        "id": "view-in-github",
        "colab_type": "text"
      },
      "source": [
        "<a href=\"https://colab.research.google.com/github/princythomasss/Assignment_Entri/blob/main/Regrex_Task5.ipynb\" target=\"_parent\"><img src=\"https://colab.research.google.com/assets/colab-badge.svg\" alt=\"Open In Colab\"/></a>"
      ]
    },
    {
      "cell_type": "markdown",
      "source": [
        "Write a Python program to check that a string contains only a certain set of characters (in this case a-z, A-Z and 0-9)."
      ],
      "metadata": {
        "id": "ApKKaQ-RtG7c"
      }
    },
    {
      "cell_type": "code",
      "source": [
        "import re\n",
        "string1=\"Thereare6tables\"\n",
        "string2=\"There are 6 tables\"\n",
        "pattern =(r'^[a-zA-Z0-9]+$')\n",
        "if re.match(pattern,string1):\n",
        "  print(\"The string contains only the mentioned set of characters\")\n",
        "else:\n",
        "  print(\"String contains other charachters too\")"
      ],
      "metadata": {
        "colab": {
          "base_uri": "https://localhost:8080/"
        },
        "id": "9goQcaJPqQPm",
        "outputId": "5a7902e3-8fa3-4332-9a8f-9572be780a98"
      },
      "execution_count": 12,
      "outputs": [
        {
          "output_type": "stream",
          "name": "stdout",
          "text": [
            "The string contains only the mentioned set of characters\n"
          ]
        }
      ]
    },
    {
      "cell_type": "markdown",
      "source": [
        "\n",
        "Write a Python program that matches a string that has an 'a' followed by zero or more 'b's\n",
        "\n"
      ],
      "metadata": {
        "id": "vBMkXc0Vp7GY"
      }
    },
    {
      "cell_type": "code",
      "source": [
        "import re\n",
        "string1 = \"abb\"\n",
        "if re.search(r'ab*',string1):\n",
        "      print(\"it's a match\")\n",
        "else:\n",
        "    print('no match found')"
      ],
      "metadata": {
        "colab": {
          "base_uri": "https://localhost:8080/"
        },
        "id": "ByO6j4U_uR1B",
        "outputId": "c6313b7b-ceea-4e7b-809a-cf9a22de574b"
      },
      "execution_count": 44,
      "outputs": [
        {
          "output_type": "stream",
          "name": "stdout",
          "text": [
            "it's a match\n"
          ]
        }
      ]
    },
    {
      "cell_type": "markdown",
      "source": [
        "Replace only the first occurrence of 5 with five for the given string\n",
        "\n",
        "ip = 'They ate 5 apples and 5 oranges'"
      ],
      "metadata": {
        "id": "fcyK-t_Ovxcr"
      }
    },
    {
      "cell_type": "code",
      "source": [
        "import re\n",
        "ip= 'They ate 5 apples and 5 oranges'\n",
        "string = re.sub(\"5\", \" Five\", ip, count = 1)\n",
        "print(string)"
      ],
      "metadata": {
        "colab": {
          "base_uri": "https://localhost:8080/"
        },
        "id": "hiYuexMcwAuD",
        "outputId": "4b1768f6-badc-441b-888e-c35c22b9bd15"
      },
      "execution_count": 33,
      "outputs": [
        {
          "output_type": "stream",
          "name": "stdout",
          "text": [
            "They ate  Five apples and 5 oranges\n"
          ]
        }
      ]
    },
    {
      "cell_type": "markdown",
      "source": [
        "Write a Python program that matches a string that has an a followed by three 'b'."
      ],
      "metadata": {
        "id": "W-1qpvFzw6uO"
      }
    },
    {
      "cell_type": "code",
      "source": [
        "import re\n",
        "string1 = \"abbj\"\n",
        "if re.search(r'abbb',string1):\n",
        "      print(\"there is a match\")\n",
        "else:\n",
        "    print('no match found')"
      ],
      "metadata": {
        "colab": {
          "base_uri": "https://localhost:8080/"
        },
        "id": "nn_gz7Niw7nu",
        "outputId": "0a4b9987-547f-421e-adbb-d8d521d4d28e"
      },
      "execution_count": 49,
      "outputs": [
        {
          "output_type": "stream",
          "name": "stdout",
          "text": [
            "no match found\n"
          ]
        }
      ]
    },
    {
      "cell_type": "markdown",
      "source": [
        "Write a Python program that matches a string that has an 'a' followed by anything ending in 'b'."
      ],
      "metadata": {
        "id": "ZbgalUB2x0kN"
      }
    },
    {
      "cell_type": "code",
      "source": [
        "import re\n",
        "string1 = \"abbj bkb\"\n",
        "if re.search(r'a\\S*b\\b',string1):\n",
        "      print(\"there is a match\")\n",
        "else:\n",
        "    print('no match found')"
      ],
      "metadata": {
        "colab": {
          "base_uri": "https://localhost:8080/"
        },
        "id": "pXY0MPtkx6X9",
        "outputId": "3404d924-2ccf-4fd8-819d-97f1859fa492"
      },
      "execution_count": 57,
      "outputs": [
        {
          "output_type": "stream",
          "name": "stdout",
          "text": [
            "no match found\n"
          ]
        }
      ]
    },
    {
      "cell_type": "markdown",
      "source": [
        "Write a Python program to search for numbers (0-9) of length between 1 and 3 in a given string.\n",
        "\n",
        "txt=\"Exercises number 1, 12, 13, and 345 are important\"\n"
      ],
      "metadata": {
        "id": "ehKuDIu-15d3"
      }
    },
    {
      "cell_type": "code",
      "source": [
        "import re\n",
        "txt=\"Exercises number 1, 12, 13, and 345 are important\"\n",
        "match_found = re.findall(r'\\d{1,3}', txt)\n",
        "if match_found:\n",
        "    print(match_found)\n",
        "else:\n",
        "    print(\"No match found.\")\n"
      ],
      "metadata": {
        "colab": {
          "base_uri": "https://localhost:8080/"
        },
        "id": "sMbtPsjJ1zMr",
        "outputId": "d01f0522-03cf-4e56-f46e-3301ea37ad27"
      },
      "execution_count": 65,
      "outputs": [
        {
          "output_type": "stream",
          "name": "stdout",
          "text": [
            "['1', '12', '13', '345']\n"
          ]
        }
      ]
    },
    {
      "cell_type": "markdown",
      "source": [
        "Write a Python program to search for literal strings within a string.\n",
        "\n",
        "Sample text : 'The quick brown fox jumps over the lazy dog.'\n",
        "\n",
        "Searched words : 'fox', 'dog', 'horse'"
      ],
      "metadata": {
        "id": "PSAdgIkK2ewE"
      }
    },
    {
      "cell_type": "code",
      "source": [
        "import re\n",
        "text ='The quick brown fox jumps over the lazy dog'\n",
        "words=['fox', 'dog', 'horse']\n",
        "for i in words:\n",
        "  if re.search(i,text):\n",
        "    print(f'{i} found in string \"{text}\"')\n",
        "  else:\n",
        "    print(f'{i} not found in string \"{text}\"')\n"
      ],
      "metadata": {
        "colab": {
          "base_uri": "https://localhost:8080/"
        },
        "id": "u_fRmQnQ2iQd",
        "outputId": "69ce1ff9-1926-45be-e908-9f655fb865c1"
      },
      "execution_count": 74,
      "outputs": [
        {
          "output_type": "stream",
          "name": "stdout",
          "text": [
            "fox found in string \"The quick brown fox jumps over the lazy dog\"\n",
            "dog found in string \"The quick brown fox jumps over the lazy dog\"\n",
            "horse not found in string \"The quick brown fox jumps over the lazy dog\"\n"
          ]
        }
      ]
    },
    {
      "cell_type": "markdown",
      "source": [
        "Write a Python program to search for a literal string in a string and also find the location within the original string where the pattern occurs.\n",
        "\n",
        "Sample text : 'The quick brown fox jumps over the lazy dog.'\n",
        "\n",
        "Searched words : 'fox'"
      ],
      "metadata": {
        "id": "I4osrwpj6_Js"
      }
    },
    {
      "cell_type": "code",
      "source": [
        "import re\n",
        "txt='The quick brown fox jumps over the lazy dog'\n",
        "matchfound=re.search(r'fox',txt)\n",
        "if(matchfound):\n",
        "  start=matchfound.start()\n",
        "  end=matchfound.end()\n",
        "  print(f\"fox is found in string '{txt}' at the location[{start},{end-1}]\")"
      ],
      "metadata": {
        "colab": {
          "base_uri": "https://localhost:8080/"
        },
        "id": "Whaa5LxR7HHK",
        "outputId": "0e261f21-6b59-4608-dc30-25b69331778e"
      },
      "execution_count": 82,
      "outputs": [
        {
          "output_type": "stream",
          "name": "stdout",
          "text": [
            "fox is found in string 'The quick brown fox jumps over the lazy dog' at the location[16,18]\n"
          ]
        }
      ]
    },
    {
      "cell_type": "markdown",
      "source": [
        "Write a Python program to extract year, month and date from an URL\n",
        "\n",
        "url1= \"https://www.washingtonpost.com/news/football-insider/wp/2016/09/02/odell-beckhams-fame-rests-on-one-stupid-little-ball-josh-norman-tells-author/\"\n"
      ],
      "metadata": {
        "id": "a38jWRwO8dCd"
      }
    },
    {
      "cell_type": "code",
      "source": [
        "import re\n",
        "url1= \"https://www.washingtonpost.com/news/football-insider/wp/2016/09/02/odell-beckhams-fame-rests-on-one-stupid-little-ball-josh-norman-tells-author/\"\n",
        "p=re.findall('\\d{4}/\\d{2}/\\d{2}/',url1)\n",
        "print(p)"
      ],
      "metadata": {
        "colab": {
          "base_uri": "https://localhost:8080/"
        },
        "id": "V2z2dPFt8cr0",
        "outputId": "18c85bcd-28b7-4bb8-df54-2f17ba20ebd7"
      },
      "execution_count": 87,
      "outputs": [
        {
          "output_type": "stream",
          "name": "stdout",
          "text": [
            "['2016/09/02/']\n"
          ]
        }
      ]
    },
    {
      "cell_type": "markdown",
      "source": [
        "Write a Python program to find URLs in a string.\n",
        "text = '<p>Contents :</p><a href=\"https://w3resource.com\">Python Examples</a><a href=\"http://github.com\">Even More Examples</a>'"
      ],
      "metadata": {
        "id": "Nm9VQELA-ZmT"
      }
    },
    {
      "cell_type": "code",
      "source": [
        "import re\n",
        "text = '<p>Contents :</p><a href=\"https://w3resource.com\">Python Examples</a><a href=\"http://github.com\">Even More Examples</a>'\n",
        "p=(r'https?://\\S+\\.com')\n",
        "b=re.findall(p,text)\n",
        "print(b)"
      ],
      "metadata": {
        "colab": {
          "base_uri": "https://localhost:8080/"
        },
        "id": "3mGKJ2Bn-j4u",
        "outputId": "514f63bd-2585-4c2c-c8f1-1d18d503f6cd"
      },
      "execution_count": 103,
      "outputs": [
        {
          "output_type": "stream",
          "name": "stdout",
          "text": [
            "['https://w3resource.com', 'http://github.com']\n"
          ]
        }
      ]
    },
    {
      "cell_type": "markdown",
      "source": [
        "Write a Python program to remove the parenthesis area in a string.\\\n",
        "\n",
        "Sample data : [\"example (.com)\", \"w3resource\", \"github (.com)\", \"stackoverflow (.com)\"]\n",
        "\n",
        "Expected Output:\n",
        "\n",
        "example\n",
        "\n",
        "w3resource\n",
        "\n",
        "github\n",
        "\n",
        "stackoverflow."
      ],
      "metadata": {
        "id": "rYxfZHanAULN"
      }
    },
    {
      "cell_type": "code",
      "source": [
        "import re\n",
        "Sample_data = [\"example (.com)\", \"w3resource\", \"github (.com)\", \"stackoverflow (.com)\"]\n",
        "pattern = (r'(.com)')\n",
        "result_list = [re.sub(pattern, \"\", string) for string in Sample_data]\n",
        "for i in result_list:\n",
        "    print(i)"
      ],
      "metadata": {
        "colab": {
          "base_uri": "https://localhost:8080/"
        },
        "id": "qHeFSHq-AdQh",
        "outputId": "9bde8cd9-6a60-47f7-81cc-e678f8418cfc"
      },
      "execution_count": 121,
      "outputs": [
        {
          "output_type": "stream",
          "name": "stdout",
          "text": [
            "example ()\n",
            "w3resource\n",
            "github ()\n",
            "stackoverflow ()\n"
          ]
        }
      ]
    },
    {
      "cell_type": "markdown",
      "source": [
        "Write a Python program to concatenate the consecutive numbers in a given string.\n",
        "\n",
        "Original string:\n",
        "\n",
        "Enter at 1 20 Kearny Street. The security desk can direct you to floor 1 6. Please have your identification ready.\n",
        "\n",
        "After concatenating the consecutive numbers in the said string:\n",
        "\n",
        "Enter at 120 Kearny Street. The security desk can direct you to floor 16. Please have your identification ready."
      ],
      "metadata": {
        "id": "3EsPBCwbCzRT"
      }
    },
    {
      "cell_type": "code",
      "source": [
        "import re\n",
        "original_string=\"Enter at 1 20 Kearny Street. The security desk can direct you to floor 1 6. Please have your identification ready\"\n",
        "result_string=re.sub(r\"(?<=\\d)\\s(?=\\d)\", '', original_string)\n",
        "print(result_string)"
      ],
      "metadata": {
        "colab": {
          "base_uri": "https://localhost:8080/"
        },
        "id": "YL7QX4-9DCw2",
        "outputId": "842a4da6-747d-4e33-fd29-86f770192e33"
      },
      "execution_count": 124,
      "outputs": [
        {
          "output_type": "stream",
          "name": "stdout",
          "text": [
            "Enter at 120 Kearny Street. The security desk can direct you to floor 16. Please have your identification ready\n"
          ]
        }
      ]
    }
  ]
}